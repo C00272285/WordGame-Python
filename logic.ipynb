{
 "cells": [
  {
   "cell_type": "code",
   "execution_count": 22,
   "metadata": {},
   "outputs": [
    {
     "name": "stderr",
     "output_type": "stream",
     "text": [
      "[nltk_data] Downloading package words to C:\\Users\\Luka\n",
      "[nltk_data]     Brennan\\AppData\\Roaming\\nltk_data...\n",
      "[nltk_data]   Package words is already up-to-date!\n"
     ]
    },
    {
     "data": {
      "text/plain": [
       "True"
      ]
     },
     "execution_count": 22,
     "metadata": {},
     "output_type": "execute_result"
    }
   ],
   "source": [
    "# These are all the imports that will be needed for the project\n",
    "import nltk\n",
    "import time\n",
    "import random\n",
    "import re\n",
    "import mariadb\n",
    "\n",
    "from nltk.corpus import words as nltkwords\n",
    "nltk.download('words')"
   ]
  },
  {
   "cell_type": "code",
   "execution_count": 23,
   "metadata": {},
   "outputs": [],
   "source": [
    "# Database connection, making a connection to the WordGame database\n",
    "def DatabaseConnection():\n",
    "    connection = mariadb.connect(\n",
    "        host = 'localhost',\n",
    "        user = 'root',\n",
    "        password = '12July98',\n",
    "        port = 3308,\n",
    "        database = 'WordGame'\n",
    "    )\n",
    "    return connection"
   ]
  },
  {
   "cell_type": "code",
   "execution_count": 24,
   "metadata": {},
   "outputs": [
    {
     "name": "stdout",
     "output_type": "stream",
     "text": [
      "carelessness\n"
     ]
    }
   ],
   "source": [
    "# Generate a random word using the nltk library\n",
    "from nltk.corpus import words as nltk_words\n",
    "# Make sure that the word is at least 8 letters long\n",
    "def GetRandomWord(min_length=8):\n",
    "    WordList = [word for word in nltk_words.words() if len(word) >= min_length]\n",
    "    return random.choice(WordList) if WordList else None\n",
    "RandomWord = GetRandomWord()\n",
    "print(RandomWord)\n"
   ]
  },
  {
   "cell_type": "code",
   "execution_count": 25,
   "metadata": {},
   "outputs": [],
   "source": [
    "# Insert the data to the database when the user completes the game\n",
    "def InsertData(Player, SourceWord, Matches, TimeTaken):\n",
    "    try:\n",
    "        connection = DatabaseConnection()\n",
    "        cursor = connection.cursor()\n",
    "        cursor.execute(\n",
    "            \"INSERT INTO LeaderBoard (PlayerName, WordGiven, Matches, TimeTaken) VALUES (?, ?, ?, ?)\",\n",
    "            (Player, SourceWord, Matches, TimeTaken)\n",
    "        )\n",
    "        connection.commit()\n",
    "    except mariadb.Error as e:\n",
    "        print(f\"Error inserting data: {e}\")\n",
    "    finally:\n",
    "        cursor.close()\n",
    "        connection.close()\n"
   ]
  },
  {
   "cell_type": "code",
   "execution_count": 26,
   "metadata": {},
   "outputs": [],
   "source": [
    "# Gets the data from the database and sorts it by TimeTaken\n",
    "def SortedLeaderBoard():\n",
    "    connection = DatabaseConnection()\n",
    "    cursor = connection.cursor()\n",
    "    cursor.execute(\n",
    "        \"SELECT PlayerName, WordGiven, Matches, TimeTaken FROM LeaderBoard ORDER BY TimeTaken ASC LIMIT 10\"\n",
    "    )\n",
    "    results = cursor.fetchall()\n",
    "    return results\n"
   ]
  },
  {
   "cell_type": "code",
   "execution_count": 27,
   "metadata": {},
   "outputs": [],
   "source": [
    "# Code checks to make sure that the word entered is valid\n",
    "def FormWord(word, base_word):\n",
    "    base_word_list = list(base_word)\n",
    "    for char in word:\n",
    "        if char in base_word_list:\n",
    "            base_word_list.remove(char)\n",
    "        else:\n",
    "            return False\n",
    "    return True\n",
    "# makes sure that the words used fit the requirments of the rules of the game \n",
    "def validate_words(word_list, base_word, min_words_required=7, min_word_length=4):\n",
    "\n",
    "    valid_words = []\n",
    "    invalid_letters = set()\n",
    "    misspelled_words = []\n",
    "    too_short_words = []\n",
    "    used_source_word = False\n",
    "    \n",
    "    for word in word_list:\n",
    "        if word == base_word:\n",
    "            used_source_word = True\n",
    "        elif len(word) < min_word_length:\n",
    "            too_short_words.append(word)\n",
    "        elif word not in nltkwords.words():\n",
    "            misspelled_words.append(word)\n",
    "        elif not FormWord(word, base_word):\n",
    "            invalid_letters.update([char for char in word if char not in base_word])\n",
    "        elif word in valid_words:\n",
    "            pass\n",
    "        else:\n",
    "            valid_words.append(word)\n",
    "    \n",
    "    feedback = []\n",
    "    \n",
    "    if invalid_letters:\n",
    "        feedback.append(f\"You used these invalid letters: {', '.join(invalid_letters)}\")\n",
    "    if misspelled_words:\n",
    "        feedback.append(f\"You misspelled these words: {', '.join(misspelled_words)}\")\n",
    "    if too_short_words:\n",
    "        feedback.append(f\"These words are too short: {', '.join(too_short_words)}\")\n",
    "    if used_source_word:\n",
    "        feedback.append(f\"You cannot use the source word: {base_word}\")\n",
    "\n",
    "    if len(valid_words) < min_words_required:\n",
    "        feedback.append(f\"You must provide at least {min_words_required} valid words. Currently, you have {len(valid_words)} valid words.\")\n",
    "    \n",
    "    if valid_words:\n",
    "        feedback.append(f\"Valid words ({len(valid_words)}): {', '.join(valid_words)}\")\n",
    "    \n",
    "    return valid_words, '\\n'.join(feedback)"
   ]
  },
  {
   "cell_type": "code",
   "execution_count": 28,
   "metadata": {},
   "outputs": [],
   "source": [
    "# validating each word\n",
    "def ProcessInput(input_string, base_word):\n",
    "    word_list = re.split(r'\\s+', input_string.strip().lower())\n",
    "    valid_words, feedback = validate_words(word_list, base_word)\n",
    "    return valid_words, feedback\n"
   ]
  },
  {
   "cell_type": "code",
   "execution_count": 29,
   "metadata": {},
   "outputs": [],
   "source": [
    "def WordGame():\n",
    "    print(\" Welcome To WordGame, Here are the Rules.\")\n",
    "    print(\"1. You need to enter in at least 7 words with a total of 4 or more letters.\")\n",
    "    print(\"2. You can not use any illegal characters such as (, . / ; ' @ : > <).\")\n",
    "    print(\"3. You can not use the SourceWord given as an answer.\")\n",
    "    print(\"4. You have to use the letters provided in the SourceWord.\")\n",
    "    print(\"5. There are no duplicate words.\")\n",
    "    print(\"6. Use a SPACE when typing the next word.\")\n",
    "    print(\"Note that the game is not case sensitive.\")\n",
    "\n",
    "    SourceWord = RandomWord.lower()\n",
    "    print(f\"Here is your word: {SourceWord}\")\n",
    "\n",
    "    StartTime = time.time()\n",
    "\n",
    "    while True:\n",
    "        UserInput = input(\"Type in the words: \")\n",
    "        valid_words, results = ProcessInput(UserInput, SourceWord)\n",
    "\n",
    "        print(results)\n",
    "\n",
    "        if len(valid_words) >= 7:\n",
    "            print(\"All your guesses are valid!\")\n",
    "        else:\n",
    "            print(f\"Game over! You needed at least 7 valid words, but only {len(valid_words)} were valid.\")\n",
    "            return \n",
    "\n",
    "        EndTime = time.time()\n",
    "        time_taken = round(EndTime - StartTime, 2)  # Calculate time taken\n",
    "\n",
    "        PlayerName = input(\"Enter your name: \")\n",
    "\n",
    "        InsertData(PlayerName, SourceWord, ', '.join(valid_words), time_taken)\n",
    "\n",
    "        print(f\"Game Over! Time taken: {time_taken} seconds.\")\n",
    "\n",
    "        # Fetch and display the sorted leaderboard\n",
    "        leaderboard = SortedLeaderBoard()\n",
    "        print(\"\\nTop 10 Leaderboard:\")\n",
    "        for position, (name, word, matches, time_taken) in enumerate(leaderboard, start=1):\n",
    "            print(f\"{position}. {name} - {word} - {matches} - {time_taken} seconds\")\n"
   ]
  },
  {
   "cell_type": "code",
   "execution_count": 30,
   "metadata": {},
   "outputs": [
    {
     "name": "stdout",
     "output_type": "stream",
     "text": [
      " Welcome To WordGame, Here are the Rules.\n",
      "1. You need to enter in at least 7 words with a total of 4 or more letters.\n",
      "2. You can not use any illegal characters such as (, . / ; ' @ : > <).\n",
      "3. You can not use the SourceWord given as an answer.\n",
      "4. You have to use the letters provided in the SourceWord.\n",
      "5. There are no duplicate words.\n",
      "6. Use a SPACE when typing the next word.\n",
      "Note that the game is not case sensitive.\n",
      "Here is your word: carelessness\n",
      "These words are too short: \n",
      "You must provide at least 7 valid words. Currently, you have 0 valid words.\n",
      "Game over! You needed at least 7 valid words, but only 0 were valid.\n"
     ]
    }
   ],
   "source": [
    "if __name__ == \"__main__\":\n",
    "    WordGame()\n"
   ]
  },
  {
   "cell_type": "code",
   "execution_count": 34,
   "metadata": {},
   "outputs": [
    {
     "name": "stdout",
     "output_type": "stream",
     "text": [
      " * Serving Flask app '__main__'\n",
      " * Debug mode: on\n"
     ]
    },
    {
     "name": "stderr",
     "output_type": "stream",
     "text": [
      "[nltk_data] Downloading package words to C:\\Users\\Luka\n",
      "[nltk_data]     Brennan\\AppData\\Roaming\\nltk_data...\n",
      "[nltk_data]   Package words is already up-to-date!\n",
      "WARNING: This is a development server. Do not use it in a production deployment. Use a production WSGI server instead.\n",
      " * Running on http://127.0.0.1:5000\n",
      "Press CTRL+C to quit\n",
      " * Restarting with stat\n"
     ]
    },
    {
     "ename": "SystemExit",
     "evalue": "1",
     "output_type": "error",
     "traceback": [
      "An exception has occurred, use %tb to see the full traceback.\n",
      "\u001b[1;31mSystemExit\u001b[0m\u001b[1;31m:\u001b[0m 1\n"
     ]
    }
   ],
   "source": [
    "from flask import Flask, render_template, request, redirect, url_for\n",
    "import random\n",
    "import re\n",
    "import time\n",
    "import mariadb\n",
    "# UPDATE for the app.py nltk will not be used as there are many problems with words not being registered,\n",
    "# as nltk may have some words missing casuing problems in such as this words does not exist when entering in one of the 7 words for the game\n",
    "import nltk\n",
    "from nltk.corpus import words as nltkwords\n",
    "\n",
    "app = Flask(__name__)\n",
    "\n",
    "nltk.download('words')\n",
    "\n",
    "def DatabaseConnection():\n",
    "    connection = mariadb.connect(\n",
    "        host='localhost',\n",
    "        user='root',\n",
    "        password='12July98',\n",
    "        port=3308,\n",
    "        database='WordGame'\n",
    "    )\n",
    "    return connection\n",
    "\n",
    "def GetRandomWord(min_length=8):\n",
    "    WordList = [word for word in nltkwords.words() if len(word) >= min_length]\n",
    "    return random.choice(WordList) if WordList else None\n",
    "\n",
    "def InsertData(Player, SourceWord, Matches, TimeTaken):\n",
    "    try:\n",
    "        connection = DatabaseConnection()\n",
    "        cursor = connection.cursor()\n",
    "        cursor.execute(\n",
    "            \"INSERT INTO LeaderBoard (PlayerName, WordGiven, Matches, TimeTaken) VALUES (?, ?, ?, ?)\",\n",
    "            (Player, SourceWord, Matches, TimeTaken)\n",
    "        )\n",
    "        connection.commit()\n",
    "    except mariadb.Error as e:\n",
    "        print(f\"Error inserting data: {e}\")\n",
    "    finally:\n",
    "        cursor.close()\n",
    "        connection.close()\n",
    "\n",
    "def SortedLeaderBoard():\n",
    "    connection = DatabaseConnection()\n",
    "    cursor = connection.cursor()\n",
    "    cursor.execute(\n",
    "        \"SELECT PlayerName, WordGiven, Matches, TimeTaken FROM LeaderBoard ORDER BY TimeTaken ASC LIMIT 10\"\n",
    "    )\n",
    "    results = cursor.fetchall()\n",
    "    return results\n",
    "\n",
    "def FormWord(word, base_word):\n",
    "    base_word_list = list(base_word)\n",
    "    for char in word:\n",
    "        if char in base_word_list:\n",
    "            base_word_list.remove(char)\n",
    "        else:\n",
    "            return False\n",
    "    return True\n",
    "\n",
    "def ValidateWords(word_list, base_word, min_words_required=7, min_word_length=4):\n",
    "    valid_words = []\n",
    "    invalid_letters = set()\n",
    "    misspelled_words = []\n",
    "    too_short_words = []\n",
    "    used_source_word = False\n",
    "    \n",
    "    for word in word_list:\n",
    "        if word == base_word:\n",
    "            used_source_word = True\n",
    "        elif len(word) < min_word_length:\n",
    "            too_short_words.append(word)\n",
    "        elif word not in nltkwords.words():\n",
    "            misspelled_words.append(word)\n",
    "        elif not FormWord(word, base_word):\n",
    "            invalid_letters.update([char for char in word if char not in base_word])\n",
    "        elif word in valid_words:\n",
    "            pass \n",
    "        else:\n",
    "            valid_words.append(word)\n",
    "    \n",
    "    feedback = []\n",
    "    \n",
    "    if invalid_letters:\n",
    "        feedback.append(f\"You used these invalid letters: {', '.join(invalid_letters)}\")\n",
    "    if misspelled_words:\n",
    "        feedback.append(f\"You misspelled these words: {', '.join(misspelled_words)}\")\n",
    "    if too_short_words:\n",
    "        feedback.append(f\"These words are too short: {', '.join(too_short_words)}\")\n",
    "    if used_source_word:\n",
    "        feedback.append(f\"You cannot use the source word: {base_word}\")\n",
    "\n",
    "    if len(valid_words) < min_words_required:\n",
    "        feedback.append(f\"You must provide at least {min_words_required} valid words. Currently, you have {len(valid_words)} valid words.\")\n",
    "    \n",
    "    if valid_words:\n",
    "        feedback.append(f\"Valid words ({len(valid_words)}): {', '.join(valid_words)}\")\n",
    "    \n",
    "    return valid_words, '\\n'.join(feedback)\n",
    "\n",
    "def ProcessInput(input_string, base_word):\n",
    "    word_list = re.split(r'\\s+', input_string.strip().lower())\n",
    "    valid_words, feedback = validate_words(word_list, base_word)\n",
    "    return valid_words, feedback\n",
    "\n",
    "@app.route('/')\n",
    "def menu():\n",
    "    return render_template('Menu.html')\n",
    "\n",
    "@app.route('/game', methods=['GET', 'POST'])\n",
    "def game():\n",
    "    if request.method == 'POST':\n",
    "        source_word = request.form['source_word']\n",
    "        user_input = request.form['user_input']\n",
    "        start_time = float(request.form['start_time'])\n",
    "        valid_words, results = ProcessInput(user_input, source_word)\n",
    "        \n",
    "        if len(valid_words) >= 7:\n",
    "            end_time = time.time()\n",
    "            time_taken = round(end_time - start_time, 2)\n",
    "            player_name = request.form['player_name']\n",
    "            InsertData(player_name, source_word, ', '.join(valid_words), time_taken)\n",
    "            return redirect(url_for('leaderboard'))\n",
    "        else:\n",
    "            return render_template('Game.html', source_word=source_word, feedback=results)\n",
    "    else:\n",
    "        source_word = GetRandomWord().lower()\n",
    "        start_time = time.time()\n",
    "        return render_template('Game.html', source_word=source_word, start_time=start_time)\n",
    "\n",
    "@app.route('/leaderboard')\n",
    "def leaderboard():\n",
    "    leaderboard_data = SortedLeaderBoard()\n",
    "    return render_template('Leaderboard.html', leaderboard=leaderboard_data)\n",
    "\n",
    "if __name__ == \"__main__\":\n",
    "    app.run(debug=True)\n"
   ]
  },
  {
   "cell_type": "code",
   "execution_count": null,
   "metadata": {},
   "outputs": [
    {
     "name": "stdout",
     "output_type": "stream",
     "text": [
      "The word 'metro' is NOT in the NLTK words corpus.\n"
     ]
    }
   ],
   "source": [
    "from nltk.corpus import words as nltkwords\n",
    "# Testing words from nltk, as some of them are not in registered\n",
    "if \"metro\" in nltkwords.words():\n",
    "    print(\"The word 'metro' is in the NLTK words corpus.\")\n",
    "else:\n",
    "    print(\"The word 'metro' is NOT in the NLTK words corpus.\")\n"
   ]
  },
  {
   "cell_type": "code",
   "execution_count": null,
   "metadata": {},
   "outputs": [
    {
     "name": "stdout",
     "output_type": "stream",
     "text": [
      "Requirement already satisfied: requests in c:\\users\\luka brennan\\appdata\\local\\packages\\pythonsoftwarefoundation.python.3.11_qbz5n2kfra8p0\\localcache\\local-packages\\python311\\site-packages (2.32.3)\n",
      "Requirement already satisfied: charset-normalizer<4,>=2 in c:\\users\\luka brennan\\appdata\\local\\packages\\pythonsoftwarefoundation.python.3.11_qbz5n2kfra8p0\\localcache\\local-packages\\python311\\site-packages (from requests) (3.3.0)\n",
      "Requirement already satisfied: idna<4,>=2.5 in c:\\users\\luka brennan\\appdata\\local\\packages\\pythonsoftwarefoundation.python.3.11_qbz5n2kfra8p0\\localcache\\local-packages\\python311\\site-packages (from requests) (3.4)\n",
      "Requirement already satisfied: urllib3<3,>=1.21.1 in c:\\users\\luka brennan\\appdata\\local\\packages\\pythonsoftwarefoundation.python.3.11_qbz5n2kfra8p0\\localcache\\local-packages\\python311\\site-packages (from requests) (2.2.2)\n",
      "Requirement already satisfied: certifi>=2017.4.17 in c:\\users\\luka brennan\\appdata\\local\\packages\\pythonsoftwarefoundation.python.3.11_qbz5n2kfra8p0\\localcache\\local-packages\\python311\\site-packages (from requests) (2024.7.4)\n",
      "Note: you may need to restart the kernel to use updated packages.\n"
     ]
    }
   ],
   "source": [
    "#pip install requests\n"
   ]
  },
  {
   "cell_type": "code",
   "execution_count": null,
   "metadata": {},
   "outputs": [],
   "source": [
    "import requests\n",
    "# Testing oxford api or getting words. \n",
    "# |UPDATE| NOT USEING THIS ANYMORE\n",
    "APP_ID = 'c72fe586'\n",
    "API_KEY = '891d340e3a07265a0aa0e9be3336fc65'\n",
    "\n",
    "def validate_word_with_oxford_api(word):\n",
    "    url = f\"https://od-api.oxforddictionaries.com/api/v2/entries/en-us/{word.lower()}\"\n",
    "    headers = {\n",
    "        \"app_id\": APP_ID,\n",
    "        \"app_key\": API_KEY\n",
    "    }\n",
    "    response = requests.get(url, headers=headers)\n",
    "    return response.status_code == 200  \n"
   ]
  },
  {
   "cell_type": "code",
   "execution_count": null,
   "metadata": {},
   "outputs": [
    {
     "name": "stdout",
     "output_type": "stream",
     "text": [
      "^C\n",
      "Note: you may need to restart the kernel to use updated packages.\n"
     ]
    },
    {
     "name": "stdout",
     "output_type": "stream",
     "text": [
      "Requirement already satisfied: black in c:\\users\\luka brennan\\appdata\\local\\packages\\pythonsoftwarefoundation.python.3.11_qbz5n2kfra8p0\\localcache\\local-packages\\python311\\site-packages (24.8.0)\n",
      "Requirement already satisfied: click>=8.0.0 in c:\\users\\luka brennan\\appdata\\local\\packages\\pythonsoftwarefoundation.python.3.11_qbz5n2kfra8p0\\localcache\\local-packages\\python311\\site-packages (from black) (8.1.7)\n",
      "Requirement already satisfied: mypy-extensions>=0.4.3 in c:\\users\\luka brennan\\appdata\\local\\packages\\pythonsoftwarefoundation.python.3.11_qbz5n2kfra8p0\\localcache\\local-packages\\python311\\site-packages (from black) (1.0.0)\n",
      "Requirement already satisfied: packaging>=22.0 in c:\\users\\luka brennan\\appdata\\local\\packages\\pythonsoftwarefoundation.python.3.11_qbz5n2kfra8p0\\localcache\\local-packages\\python311\\site-packages (from black) (23.1)\n",
      "Requirement already satisfied: pathspec>=0.9.0 in c:\\users\\luka brennan\\appdata\\local\\packages\\pythonsoftwarefoundation.python.3.11_qbz5n2kfra8p0\\localcache\\local-packages\\python311\\site-packages (from black) (0.12.1)\n",
      "Requirement already satisfied: platformdirs>=2 in c:\\users\\luka brennan\\appdata\\local\\packages\\pythonsoftwarefoundation.python.3.11_qbz5n2kfra8p0\\localcache\\local-packages\\python311\\site-packages (from black) (3.10.0)\n",
      "Requirement already satisfied: colorama in c:\\users\\luka brennan\\appdata\\local\\packages\\pythonsoftwarefoundation.python.3.11_qbz5n2kfra8p0\\localcache\\local-packages\\python311\\site-packages (from click>=8.0.0->black) (0.4.6)\n"
     ]
    }
   ],
   "source": [
    "#pip install black"
   ]
  },
  {
   "cell_type": "code",
   "execution_count": null,
   "metadata": {},
   "outputs": [
    {
     "ename": "SyntaxError",
     "evalue": "invalid syntax (97274718.py, line 1)",
     "output_type": "error",
     "traceback": [
      "\u001b[1;36m  Cell \u001b[1;32mIn[19], line 1\u001b[1;36m\u001b[0m\n\u001b[1;33m    black Logic.ipynb\u001b[0m\n\u001b[1;37m          ^\u001b[0m\n\u001b[1;31mSyntaxError\u001b[0m\u001b[1;31m:\u001b[0m invalid syntax\n"
     ]
    }
   ],
   "source": []
  }
 ],
 "metadata": {
  "kernelspec": {
   "display_name": "Python 3",
   "language": "python",
   "name": "python3"
  },
  "language_info": {
   "codemirror_mode": {
    "name": "ipython",
    "version": 3
   },
   "file_extension": ".py",
   "mimetype": "text/x-python",
   "name": "python",
   "nbconvert_exporter": "python",
   "pygments_lexer": "ipython3",
   "version": "3.11.9"
  }
 },
 "nbformat": 4,
 "nbformat_minor": 2
}
